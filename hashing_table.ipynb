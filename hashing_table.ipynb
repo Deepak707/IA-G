{
 "cells": [
  {
   "cell_type": "code",
   "execution_count": 1,
   "metadata": {},
   "outputs": [],
   "source": [
    "class MapNode:\n",
    "    def __init__(self,key,value):\n",
    "        self.key = key\n",
    "        self.value = value\n",
    "        self.next = None\n",
    "        "
   ]
  },
  {
   "cell_type": "code",
   "execution_count": 17,
   "metadata": {},
   "outputs": [],
   "source": [
    "class Map:\n",
    "    def __init__(self):\n",
    "        self.bucketsize = 10\n",
    "        self.buckets = [None for i in range(self.bucketsize)]\n",
    "        self.count = 0\n",
    "    def size(self):\n",
    "        return self.count\n",
    "    def getBucketIndex(self,hc):\n",
    "        return (abs(hc)%(self.bucketsize))\n",
    "    def insert(self, key, value):\n",
    "        hc = hash(key)\n",
    "        index = self.getBucketIndex(hc)\n",
    "        head = self.buckets[index]\n",
    "        while head is not None:\n",
    "            if head.key == key:\n",
    "                head.value = value\n",
    "                return \n",
    "            head = head.next\n",
    "        newNode = MapNode(key,value)\n",
    "        newNode.next = head\n",
    "        self.buckets[index] = newNode\n",
    "        self.count += 1\n",
    "    def getValue(self,key):\n",
    "        hc = hash(key)\n",
    "        index = self.getBucketIndex(hc)\n",
    "        head = self.buckets[index]\n",
    "        while head is not None:\n",
    "            if head.key == key:\n",
    "                return head.value\n",
    "            head = head.next\n",
    "        return None\n",
    "    def remove(self,key):\n",
    "        hc = hash(key)\n",
    "        index = self.getBucketIndex(hc)\n",
    "        head = self.buckets[index]\n",
    "        prev = None\n",
    "        if head.key == key:\n",
    "            self.buckets[index]=head.next\n",
    "            return head.value\n",
    "        while head is not None:\n",
    "            if head.key == key:\n",
    "                prev.next = head.next\n",
    "                return head.value\n",
    "            prev = head\n",
    "            head = head.next\n",
    "        return None \n",
    "\n",
    "\n",
    "\n"
   ]
  },
  {
   "cell_type": "code",
   "execution_count": 18,
   "metadata": {},
   "outputs": [
    {
     "data": {
      "text/plain": [
       "2"
      ]
     },
     "execution_count": 18,
     "metadata": {},
     "output_type": "execute_result"
    }
   ],
   "source": [
    "m = Map()\n",
    "m.insert('p',2)\n",
    "m.getValue('p')\n",
    "m.remove('p')"
   ]
  },
  {
   "cell_type": "code",
   "execution_count": 19,
   "metadata": {},
   "outputs": [],
   "source": [
    "m.getValue('p')"
   ]
  },
  {
   "cell_type": "code",
   "execution_count": 14,
   "metadata": {},
   "outputs": [
    {
     "data": {
      "text/plain": [
       "1"
      ]
     },
     "execution_count": 14,
     "metadata": {},
     "output_type": "execute_result"
    }
   ],
   "source": [
    "m.size()"
   ]
  },
  {
   "cell_type": "code",
   "execution_count": 1,
   "metadata": {},
   "outputs": [],
   "source": [
    "def lg(key,map):\n",
    "    count = 0\n",
    "    key +=1\n",
    "    while key in map:\n",
    "        count+=1\n",
    "    return count\n",
    "\n",
    "def longestConsecutiveSubsequence(arr,n):\n",
    "    res =[]\n",
    "    maxi = 0\n",
    "    dic = {}\n",
    "    for i in arr:\n",
    "        dic[i]=1\n",
    "    for i in range(n):\n",
    "        key = arr[i]-1\n",
    "        if key in dic:\n",
    "            continue\n",
    "        else:\n",
    "            k = lg(arr[i],dic)\n",
    "            if maxi<k:\n",
    "                res =[arr[i],arr[i]+k]\n",
    "                maxi = k\n",
    "    return res \n",
    "        \n",
    "\n"
   ]
  },
  {
   "cell_type": "code",
   "execution_count": null,
   "metadata": {},
   "outputs": [],
   "source": [
    "class PriorityQueueNode:\n",
    "def __init__(self,ele,priority):\n",
    "self.ele = ele\n",
    "self.priority = priority\n",
    "class PriorityQueue:\n",
    "def __init__(self):\n",
    "self.pq = []\n",
    "def isEmpty(self):\n",
    "return self.getSize() == 0\n",
    "def getSize(self):\n",
    "return len(self.pq)\n",
    "def getMax(self):\n",
    "if self.isEmpty():\n",
    "return None\n",
    "return self.pq[0].ele\n",
    "def __percolateUp(self):\n",
    "childIndex = self.getSize() - 1\n",
    "while childIndex > 0:\n",
    "parentIndex = (childIndex-1)//2\n",
    "if self.pq[parentIndex].priority < self.pq[childIndex].priority:\n",
    "self.pq[parentIndex],self.pq[childIndex] =\n",
    "self.pq[childIndex],self.pq[parentIndex]\n",
    "childIndex = parentIndex\n",
    "else:\n",
    "break\n",
    "def __percolateDown(self):\n",
    "parentIndex = 0\n",
    "leftIndex = 2*parentIndex + 1\n",
    "rightIndex = 2*parentIndex + 2\n",
    "while leftIndex < self.getSize():\n",
    "minIndex = parentIndex\n",
    "if(self.pq[minIndex].priority < self.pq[leftIndex].priority):\n",
    "minIndex = leftIndex\n",
    "if(rightIndex < self.getSize() and self.pq[minIndex].priority <\n",
    "self.pq[rightIndex].priority):\n",
    "minIndex = rightIndex\n",
    "if minIndex!=parentIndex:\n",
    "self.pq[parentIndex],self.pq[minIndex] = self.pq[minIndex],self.pq[parentIndex]\n",
    "parentIndex = minIndex\n",
    "leftIndex = 2*parentIndex + 1\n",
    "rightIndex = 2*parentIndex + 2\n",
    "else:\n",
    "break\n",
    "def insert(self,ele,priority):\n",
    "pqNode = PriorityQueueNode(ele,priority)\n",
    "self.pq.append(pqNode)\n",
    "self.__percolateUp()\n",
    "def removeMax(self):\n",
    "if self.isEmpty():\n",
    "return None\n",
    "element = self.pq[0]\n",
    "self.pq[0] = self.pq[self.getSize()-1]\n",
    "self.pq.pop()\n",
    "self.__percolateDown()\n",
    "return element.ele\n",
    "myPq = PriorityQueue()"
   ]
  },
  {
   "cell_type": "code",
   "execution_count": 1,
   "metadata": {},
   "outputs": [
    {
     "ename": "IndentationError",
     "evalue": "expected an indented block (11224340.py, line 2)",
     "output_type": "error",
     "traceback": [
      "\u001b[1;36m  Input \u001b[1;32mIn [1]\u001b[1;36m\u001b[0m\n\u001b[1;33m    def heapSort(arr):\u001b[0m\n\u001b[1;37m    ^\u001b[0m\n\u001b[1;31mIndentationError\u001b[0m\u001b[1;31m:\u001b[0m expected an indented block\n"
     ]
    }
   ],
   "source": [
    "def UPheadpy(arr,i,n):\n",
    "    \n",
    "def heapSort(arr):\n",
    "\n",
    "\n",
    "n = input()\n",
    "arr = [int(ele) for ele in input().split()]\n",
    "heapSort(arr)\n",
    "for ele in arr[::-1]:\n",
    "    print(ele,end=' ')"
   ]
  },
  {
   "cell_type": "code",
   "execution_count": 2,
   "metadata": {},
   "outputs": [
    {
     "name": "stdout",
     "output_type": "stream",
     "text": [
      "1 2 3 4 5 "
     ]
    }
   ],
   "source": [
    "def down_heapify(arr,i,n):\n",
    "    parentIndex=i\n",
    "    leftChildIndex=2*parentIndex+1\n",
    "    rightChildIndex=2*parentIndex+2\n",
    "    \n",
    "    while leftChildIndex<n:\n",
    "        minIndex=parentIndex\n",
    "        if arr[minIndex]>arr[leftChildIndex]:\n",
    "            minIndex=leftChildIndex\n",
    "        if rightChildIndex<n and arr[minIndex]>arr[rightChildIndex]:\n",
    "            minIndex=rightChildIndex\n",
    "        if minIndex==parentIndex:\n",
    "            return \n",
    "        arr[minIndex],arr[parentIndex]=arr[parentIndex],arr[minIndex]\n",
    "        parentIndex=minIndex\n",
    "        leftChildIndex=2*parentIndex+1\n",
    "        rightChildIndex=2*parentIndex+2\n",
    "    return\n",
    "\n",
    "def heapSort(arr):\n",
    "    #Build the heap\n",
    "     n=len(arr)\n",
    "     for i in range(n//2,-1,-1):\n",
    "            down_heapify(arr,i,n)\n",
    "            \n",
    "     for i in range(n-1,0,-1):\n",
    "        arr[0],arr[i]=arr[i],arr[0]\n",
    "        down_heapify(arr,0,i)\n",
    "     return \n",
    "    \n",
    "    #Removing n elements from the heap and put them at correct position\n",
    "arr=[int (ele)for ele in input().split()]\n",
    "heapSort(arr)\n",
    "for ele in arr[::-1]:\n",
    "    print(ele,end=\" \")"
   ]
  },
  {
   "cell_type": "code",
   "execution_count": null,
   "metadata": {},
   "outputs": [],
   "source": []
  }
 ],
 "metadata": {
  "kernelspec": {
   "display_name": "Python 3.9.6 64-bit",
   "language": "python",
   "name": "python3"
  },
  "language_info": {
   "codemirror_mode": {
    "name": "ipython",
    "version": 3
   },
   "file_extension": ".py",
   "mimetype": "text/x-python",
   "name": "python",
   "nbconvert_exporter": "python",
   "pygments_lexer": "ipython3",
   "version": "3.9.6"
  },
  "orig_nbformat": 4,
  "vscode": {
   "interpreter": {
    "hash": "09b4cf88d66c96d02ab3d4b824ef293c884be853a8ab954c1236e567fba6c660"
   }
  }
 },
 "nbformat": 4,
 "nbformat_minor": 2
}
