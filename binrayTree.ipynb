{
 "cells": [
  {
   "cell_type": "code",
   "execution_count": 3,
   "metadata": {},
   "outputs": [],
   "source": [
    "class Btnode:\n",
    "    def __init__(self,data = None):\n",
    "        self.data=  data\n",
    "        self.right = None \n",
    "        self.left = None"
   ]
  },
  {
   "cell_type": "code",
   "execution_count": 4,
   "metadata": {},
   "outputs": [],
   "source": [
    "class BinaryTree:\n",
    "    def __init__(self,root=None):\n",
    "        self.root = root\n",
    "    def insert_level(self,arr):\n",
    "        def insert(arr,r,i,n):\n",
    "            if (i < n):\n",
    "                if arr[i]==-1:\n",
    "                    return Btnode()\n",
    "                temp = Btnode(arr[i])\n",
    "                r = temp\n",
    "                r.left = insert(arr, r.left, 2 * i + 1, n)\n",
    "                r.right = insert(arr, r.right, 2 * i + 2, n)\n",
    "            return r\n",
    "        self.root = insert(arr,self.root,0,len(arr))\n",
    "    def height(self):\n",
    "        def helper(root):\n",
    "            if (root == None):\n",
    "                return 0\n",
    "            ans = helper(root.left)\n",
    "            ans1= helper(root.right)\n",
    "            max_=max(ans,ans1)\n",
    "            return max_+1\n",
    "        return helper(self.root)\n",
    "    def curr_lev(self,level):\n",
    "        def current(root,level):\n",
    "            if root == None:\n",
    "                return\n",
    "            if level==1:\n",
    "                print(root.data,end =\" \")\n",
    "            if level>1:\n",
    "                current(root.left,level-1)\n",
    "                current(root.right,level-1)\n",
    "        current(self.root,level)\n",
    "    def level_order(self):\n",
    "        def bsf(node,level = 0,res=[]):\n",
    "            if level<len(res):\n",
    "                if node:\n",
    "                    res[level].append(node.data)\n",
    "                else:\n",
    "                    res[level].append(\" \")\n",
    "            else:\n",
    "                if node:\n",
    "                    res.append([node.data])\n",
    "                else:\n",
    "                    res.append([\" \"])\n",
    "            if not node:\n",
    "                return \n",
    "            bsf(node.left,level+1,res)\n",
    "            bsf(node.right,level+1,res)\n",
    "            return res\n",
    "        def printTree(node):\n",
    "            treeArray = bsf(node)\n",
    "            if treeArray==None:\n",
    "                print(\"Empty Tree !!\")\n",
    "                return\n",
    "            h = len(treeArray)\n",
    "            whiteSpaces = (2**h)-1\n",
    "            \n",
    "            def printSpaces(n):\n",
    "                for i in range(n):\n",
    "                    print(\" \",end=\"\")\n",
    "\n",
    "                \n",
    "            for level in treeArray:\n",
    "                whiteSpaces = whiteSpaces//2\n",
    "                for i,x in enumerate(level):\n",
    "                    if i==0:\n",
    "                        printSpaces(whiteSpaces)\n",
    "                    if x ==None:\n",
    "                        print(\"-\",end =\" \")\n",
    "                    else:\n",
    "                        print(x,end=\"\")\n",
    "                    printSpaces(1+2*whiteSpaces)\n",
    "                print()\n",
    "        printTree(self.root)\n"
   ]
  },
  {
   "cell_type": "code",
   "execution_count": 5,
   "metadata": {},
   "outputs": [],
   "source": [
    "a = BinaryTree()\n",
    "a.insert_level([1,1,2, -1, 5, 6, 7,-1,-1,3])"
   ]
  },
  {
   "cell_type": "code",
   "execution_count": 6,
   "metadata": {},
   "outputs": [
    {
     "name": "stdout",
     "output_type": "stream",
     "text": [
      "               1                               \n",
      "       1               2               \n",
      "   -        5       6       7       \n",
      "         3                       \n",
      "    \n"
     ]
    }
   ],
   "source": [
    "a.level_order()"
   ]
  },
  {
   "cell_type": "code",
   "execution_count": 6,
   "metadata": {},
   "outputs": [],
   "source": [
    "def level(root,p,l):\n",
    "    if root == None:\n",
    "        return 0\n",
    "    if root ==p:\n",
    "        return l\n",
    "    le = level(root.right,p,l+1)\n",
    "    if le!=0:\n",
    "        return le\n",
    "    return level(root.left,p,l+1)"
   ]
  },
  {
   "cell_type": "code",
   "execution_count": 8,
   "metadata": {},
   "outputs": [
    {
     "data": {
      "text/plain": [
       "2"
      ]
     },
     "execution_count": 8,
     "metadata": {},
     "output_type": "execute_result"
    }
   ],
   "source": [
    "level(a.root,a.root.left,1)"
   ]
  },
  {
   "cell_type": "code",
   "execution_count": 9,
   "metadata": {},
   "outputs": [],
   "source": [
    "def sib(root,p,q):\n",
    "    if root == None:\n",
    "        return False\n",
    "    if root.left !=None and root.right !=None:\n",
    "        if (root.left == p and root.right) ==q or (root.left ==q and root.right == p):\n",
    "            return True\n",
    "    t = sib(root.left,p,q)\n",
    "    if t:\n",
    "        return t\n",
    "    return sib(root.right,p,q)"
   ]
  },
  {
   "cell_type": "code",
   "execution_count": 12,
   "metadata": {},
   "outputs": [
    {
     "data": {
      "text/plain": [
       "False"
      ]
     },
     "execution_count": 12,
     "metadata": {},
     "output_type": "execute_result"
    }
   ],
   "source": []
  },
  {
   "cell_type": "code",
   "execution_count": 172,
   "metadata": {},
   "outputs": [],
   "source": [
    "# To remove Leaf node from binary tree \n",
    "def removeLeave(b): # input BinaryTree.root \n",
    "    if b ==None:\n",
    "        return None\n",
    "    if b.left == None and b.right == None:\n",
    "        return None\n",
    "    b.left = removeLeave(b.left)\n",
    "    b.right = removeLeave(b.right)\n",
    "    return b # return Btnode root node "
   ]
  },
  {
   "cell_type": "code",
   "execution_count": 191,
   "metadata": {},
   "outputs": [
    {
     "name": "stdout",
     "output_type": "stream",
     "text": [
      "               1                               \n",
      "       1               2               \n",
      "   -        5       6       7       \n",
      "         3                       \n",
      "    \n"
     ]
    }
   ],
   "source": [
    "a.level_order()"
   ]
  },
  {
   "cell_type": "code",
   "execution_count": 181,
   "metadata": {},
   "outputs": [],
   "source": [
    "def mirrorBinaryTree(root) :\n",
    "    if root == None or (root.left == None and root.right == None):\n",
    "        return\n",
    "    mirrorBinaryTree(root.left)\n",
    "    mirrorBinaryTree(root.right)\n",
    "    temp= root.left\n",
    "    root.left =root.right\n",
    "    root.right =temp\n"
   ]
  },
  {
   "cell_type": "code",
   "execution_count": 184,
   "metadata": {},
   "outputs": [],
   "source": []
  },
  {
   "cell_type": "code",
   "execution_count": 192,
   "metadata": {},
   "outputs": [
    {
     "name": "stdout",
     "output_type": "stream",
     "text": [
      "               1                               \n",
      "       1               2               \n",
      "   -        5       6       7       \n",
      "         3                       \n",
      "    \n"
     ]
    }
   ],
   "source": [
    "a.level_order()"
   ]
  },
  {
   "cell_type": "code",
   "execution_count": 6,
   "metadata": {},
   "outputs": [],
   "source": [
    "def diameter(root):\n",
    "    if root == None:\n",
    "        return 0,0\n",
    "    rh ,dr = diameter(root.left)\n",
    "    lh ,d = diameter(root.right)\n",
    "    return max(rh,lh)+1,max(dr,d,rh+lh+1)  # return height and diameter of binary Tree "
   ]
  },
  {
   "cell_type": "code",
   "execution_count": 7,
   "metadata": {},
   "outputs": [
    {
     "data": {
      "text/plain": [
       "(4, 5)"
      ]
     },
     "execution_count": 7,
     "metadata": {},
     "output_type": "execute_result"
    }
   ],
   "source": []
  },
  {
   "cell_type": "code",
   "execution_count": 24,
   "metadata": {},
   "outputs": [],
   "source": []
  },
  {
   "cell_type": "code",
   "execution_count": 6,
   "metadata": {},
   "outputs": [
    {
     "ename": "NameError",
     "evalue": "name 'bsf' is not defined",
     "output_type": "error",
     "traceback": [
      "\u001b[1;31m---------------------------------------------------------------------------\u001b[0m",
      "\u001b[1;31mNameError\u001b[0m                                 Traceback (most recent call last)",
      "\u001b[1;32md:\\Python_DSA_2.0\\binrayTree.ipynb Cell 13\u001b[0m in \u001b[0;36m<module>\u001b[1;34m\u001b[0m\n\u001b[1;32m----> <a href='vscode-notebook-cell:/d%3A/Python_DSA_2.0/binrayTree.ipynb#X16sZmlsZQ%3D%3D?line=0'>1</a>\u001b[0m \u001b[39mprint\u001b[39m(bsf(a\u001b[39m.\u001b[39mroot))\n",
      "\u001b[1;31mNameError\u001b[0m: name 'bsf' is not defined"
     ]
    }
   ],
   "source": [
    "print(bsf(a.root))\n"
   ]
  },
  {
   "cell_type": "code",
   "execution_count": 26,
   "metadata": {},
   "outputs": [
    {
     "data": {
      "text/plain": [
       "4"
      ]
     },
     "execution_count": 26,
     "metadata": {},
     "output_type": "execute_result"
    }
   ],
   "source": [
    "a.height()"
   ]
  },
  {
   "cell_type": "code",
   "execution_count": 7,
   "metadata": {},
   "outputs": [],
   "source": [
    "def bsf(node,max,level = 0,res=[]):\n",
    "    if max==0:\n",
    "        return\n",
    "    if level<len(res):\n",
    "        if node:\n",
    "            res[level].append(node.data)\n",
    "        else:\n",
    "            res[level].append(-1)\n",
    "    else:\n",
    "        if node:\n",
    "            res.append([node.data])\n",
    "        else:\n",
    "            res.append([-1])\n",
    "    if not node:\n",
    "        bsf(node,max-1,level+1,res)\n",
    "        bsf(node,max-1,level+1,res)\n",
    "    else:\n",
    "        bsf(node.left,max-1,level+1,res)\n",
    "        bsf(node.right,max-1,level+1,res)\n",
    "    return res"
   ]
  },
  {
   "cell_type": "code",
   "execution_count": 14,
   "metadata": {},
   "outputs": [
    {
     "data": {
      "text/plain": [
       "[[1], [1, 2], [None, 5, 6, 7], [-1, -1, 3, -1, -1, -1, -1, -1]]"
      ]
     },
     "execution_count": 14,
     "metadata": {},
     "output_type": "execute_result"
    }
   ],
   "source": [
    "bsf(a.root,a.height())"
   ]
  },
  {
   "cell_type": "code",
   "execution_count": 14,
   "metadata": {},
   "outputs": [],
   "source": [
    "import queue\n",
    "def printLevelWise(root):\n",
    "    if root is None:\n",
    "        return\n",
    "    q = queue.Queue()\n",
    "    q.put(root)\n",
    " \n",
    "    while(not q.empty()):\n",
    "        node = q.get()\n",
    "        left = node.left.data if node.left else -1\n",
    "        right = node.right.data if node.right else -1\n",
    "        print(node.data,end=\":L:\")\n",
    "        print(left,end=\",R:\")\n",
    "        print(right)\n",
    "        if node.left is not None:\n",
    "            q.put(node.left)\n",
    "        if node.right is not None:\n",
    "            q.put(node.right)"
   ]
  },
  {
   "cell_type": "code",
   "execution_count": 36,
   "metadata": {},
   "outputs": [
    {
     "name": "stdout",
     "output_type": "stream",
     "text": [
      "1:L:1,R:2\n",
      "1:L:None,R:5\n",
      "2:L:6,R:7\n",
      "None:L:-1,R:-1\n",
      "5:L:3,R:-1\n",
      "6:L:-1,R:-1\n",
      "7:L:-1,R:-1\n",
      "3:L:-1,R:-1\n"
     ]
    }
   ],
   "source": [
    "printLevelWise(a.root)"
   ]
  },
  {
   "cell_type": "code",
   "execution_count": 34,
   "metadata": {},
   "outputs": [
    {
     "data": {
      "text/plain": [
       "[1, 1, 2, None, 5, 6, 7, 3]"
      ]
     },
     "execution_count": 34,
     "metadata": {},
     "output_type": "execute_result"
    }
   ],
   "source": [
    "res"
   ]
  },
  {
   "cell_type": "code",
   "execution_count": 7,
   "metadata": {},
   "outputs": [
    {
     "name": "stdout",
     "output_type": "stream",
     "text": [
      "+\n",
      "-\n",
      "a\n",
      "b\n",
      "x\n",
      "c\n",
      "d\n"
     ]
    }
   ],
   "source": [
    "\n",
    "def buildTree(preOrder,inOrder,n):\n",
    "    dic = {x:i for i,x in enumerate(inOrder)}   \n",
    "    a=hepler(preOrder,dic,0,n-1,0)\n",
    "    return a\n",
    "preOrder=[\"+\",\"-\",\"a\",'b','x','c','d']\n",
    "inOrder=['a','-','b','+','c','x','d']\n",
    "aa = buildTree(preOrder,inOrder,len(preOrder))\n",
    "    "
   ]
  },
  {
   "cell_type": "code",
   "execution_count": 15,
   "metadata": {},
   "outputs": [],
   "source": [
    "ab = BinaryTree(aa)"
   ]
  },
  {
   "cell_type": "code",
   "execution_count": 16,
   "metadata": {},
   "outputs": [
    {
     "name": "stdout",
     "output_type": "stream",
     "text": [
      "+:L:-,R:x\n",
      "-:L:a,R:b\n",
      "x:L:c,R:d\n",
      "a:L:-1,R:-1\n",
      "b:L:-1,R:-1\n",
      "c:L:-1,R:-1\n",
      "d:L:-1,R:-1\n"
     ]
    }
   ],
   "source": [
    "printLevelWise(ab.root)"
   ]
  },
  {
   "cell_type": "code",
   "execution_count": 6,
   "metadata": {},
   "outputs": [],
   "source": [
    "\n",
    "idx= -1\n",
    "def hepler(preOrder,dic,low,upper,curr):\n",
    "    global idx\n",
    "    idx +=1\n",
    "    if low>upper:\n",
    "        return None\n",
    "    node = Btnode(preOrder[idx])\n",
    "    print(preOrder[idx])\n",
    "    if low==upper:\n",
    "        return node\n",
    "    pat= dic[preOrder[idx]]\n",
    "    # print(pat,preOrder[idx])\n",
    "    # print(idx)\n",
    "    \n",
    "    node.left = hepler(preOrder,dic,low,pat-1,curr+1)\n",
    "    node.right=hepler(preOrder,dic,pat+1,upper,curr+1)\n",
    "    return node"
   ]
  },
  {
   "cell_type": "code",
   "execution_count": 12,
   "metadata": {},
   "outputs": [],
   "source": [
    "def insertDuplicateNode(root):\n",
    "    if root == None:\n",
    "        return None\n",
    "    node = Btnode(root.data)\n",
    "    temp = root.left\n",
    "    root.left = node\n",
    "    node.left=temp\n",
    "    insertDuplicateNode(node.left)\n",
    "    insertDuplicateNode(root.right)"
   ]
  },
  {
   "cell_type": "code",
   "execution_count": 14,
   "metadata": {},
   "outputs": [],
   "source": [
    "def bsf(node,level = 0,res=[]):\n",
    "    if level<len(res):\n",
    "        if node:\n",
    "            res[level].append(node.data)\n",
    "    else:\n",
    "        if node:\n",
    "            res.append([node.data])\n",
    "        else:\n",
    "            res.append([])\n",
    "    if not node:\n",
    "        return \n",
    "    bsf(node.left,level+1,res)\n",
    "    bsf(node.right,level+1,res)"
   ]
  },
  {
   "cell_type": "code",
   "execution_count": 17,
   "metadata": {},
   "outputs": [],
   "source": [
    "res = []\n",
    "bsf(ab.root,0,res)"
   ]
  },
  {
   "cell_type": "code",
   "execution_count": 22,
   "metadata": {},
   "outputs": [
    {
     "data": {
      "text/plain": [
       "[['+'], ['-', 'x'], ['a', 'b', 'c', 'd'], []]"
      ]
     },
     "execution_count": 22,
     "metadata": {},
     "output_type": "execute_result"
    }
   ],
   "source": [
    "res"
   ]
  },
  {
   "cell_type": "code",
   "execution_count": 1,
   "metadata": {},
   "outputs": [],
   "source": [
    "def power(base,pow):\n",
    "    if pow ==0:\n",
    "        return 1\n",
    "    ans = power(base,pow//2)\n",
    "    return ans**2 if pow%2==0 else (ans**2)*base"
   ]
  },
  {
   "cell_type": "code",
   "execution_count": 2,
   "metadata": {},
   "outputs": [
    {
     "data": {
      "text/plain": [
       "81"
      ]
     },
     "execution_count": 2,
     "metadata": {},
     "output_type": "execute_result"
    }
   ],
   "source": [
    "power(3,4)"
   ]
  },
  {
   "cell_type": "code",
   "execution_count": 6,
   "metadata": {},
   "outputs": [],
   "source": [
    "\n",
    "        \n",
    "    "
   ]
  },
  {
   "cell_type": "code",
   "execution_count": 80,
   "metadata": {},
   "outputs": [],
   "source": [
    "def helper(node,s,k,li,double_li):\n",
    "    if node == None:\n",
    "        return\n",
    "    if node.left == None and node.right == None:\n",
    "        if s==k:\n",
    "            s+=node.data\n",
    "            li.append(node.data)\n",
    "            double_li.append(li.copy())\n",
    "        return\n",
    "    li.append(node.data)\n",
    "    s+=node.data\n",
    "    helper(node.left,s,k,li.copy(),double_li)\n",
    "    helper(node.right,s,k,li.copy(),double_li)\n",
    "    return\n",
    "\n",
    "def rootToLeafPathsSumToK(root,k):\n",
    "    double_li = []\n",
    "    li = []\n",
    "    s =0\n",
    "    helper(root,s,k,li,double_li)\n",
    "    print(*double_li)"
   ]
  },
  {
   "cell_type": "code",
   "execution_count": 81,
   "metadata": {},
   "outputs": [],
   "source": [
    "ab = BinaryTree()\n"
   ]
  },
  {
   "cell_type": "code",
   "execution_count": 82,
   "metadata": {},
   "outputs": [
    {
     "ename": "TypeError",
     "evalue": "unsupported operand type(s) for +=: 'int' and 'NoneType'",
     "output_type": "error",
     "traceback": [
      "\u001b[1;31m---------------------------------------------------------------------------\u001b[0m",
      "\u001b[1;31mTypeError\u001b[0m                                 Traceback (most recent call last)",
      "\u001b[1;32md:\\Python_DSA_2.0\\binrayTree.ipynb Cell 33\u001b[0m in \u001b[0;36m<module>\u001b[1;34m\u001b[0m\n\u001b[0;32m      <a href='vscode-notebook-cell:/d%3A/Python_DSA_2.0/binrayTree.ipynb#X46sZmlsZQ%3D%3D?line=0'>1</a>\u001b[0m ab\u001b[39m.\u001b[39minsert_level([\u001b[39m2\u001b[39m,\u001b[39m3\u001b[39m,\u001b[39m9\u001b[39m,\u001b[39m4\u001b[39m,\u001b[39m8\u001b[39m,\u001b[39m-\u001b[39m\u001b[39m1\u001b[39m,\u001b[39m2\u001b[39m,\u001b[39m4\u001b[39m,\u001b[39m-\u001b[39m\u001b[39m1\u001b[39m,\u001b[39m-\u001b[39m\u001b[39m1\u001b[39m,\u001b[39m-\u001b[39m\u001b[39m1\u001b[39m,\u001b[39m-\u001b[39m\u001b[39m1\u001b[39m,\u001b[39m-\u001b[39m\u001b[39m1\u001b[39m,\u001b[39m6\u001b[39m,\u001b[39m-\u001b[39m\u001b[39m1\u001b[39m])\n\u001b[1;32m----> <a href='vscode-notebook-cell:/d%3A/Python_DSA_2.0/binrayTree.ipynb#X46sZmlsZQ%3D%3D?line=1'>2</a>\u001b[0m rootToLeafPathsSumToK(ab\u001b[39m.\u001b[39;49mroot,\u001b[39m13\u001b[39;49m)\n",
      "\u001b[1;32md:\\Python_DSA_2.0\\binrayTree.ipynb Cell 33\u001b[0m in \u001b[0;36mrootToLeafPathsSumToK\u001b[1;34m(root, k)\u001b[0m\n\u001b[0;32m     <a href='vscode-notebook-cell:/d%3A/Python_DSA_2.0/binrayTree.ipynb#X46sZmlsZQ%3D%3D?line=17'>18</a>\u001b[0m li \u001b[39m=\u001b[39m []\n\u001b[0;32m     <a href='vscode-notebook-cell:/d%3A/Python_DSA_2.0/binrayTree.ipynb#X46sZmlsZQ%3D%3D?line=18'>19</a>\u001b[0m s \u001b[39m=\u001b[39m\u001b[39m0\u001b[39m\n\u001b[1;32m---> <a href='vscode-notebook-cell:/d%3A/Python_DSA_2.0/binrayTree.ipynb#X46sZmlsZQ%3D%3D?line=19'>20</a>\u001b[0m helper(root,s,k,li,double_li)\n\u001b[0;32m     <a href='vscode-notebook-cell:/d%3A/Python_DSA_2.0/binrayTree.ipynb#X46sZmlsZQ%3D%3D?line=20'>21</a>\u001b[0m \u001b[39mprint\u001b[39m(\u001b[39m*\u001b[39mdouble_li)\n",
      "\u001b[1;32md:\\Python_DSA_2.0\\binrayTree.ipynb Cell 33\u001b[0m in \u001b[0;36mhelper\u001b[1;34m(node, s, k, li, double_li)\u001b[0m\n\u001b[0;32m     <a href='vscode-notebook-cell:/d%3A/Python_DSA_2.0/binrayTree.ipynb#X46sZmlsZQ%3D%3D?line=9'>10</a>\u001b[0m li\u001b[39m.\u001b[39mappend(node\u001b[39m.\u001b[39mdata)\n\u001b[0;32m     <a href='vscode-notebook-cell:/d%3A/Python_DSA_2.0/binrayTree.ipynb#X46sZmlsZQ%3D%3D?line=10'>11</a>\u001b[0m s\u001b[39m+\u001b[39m\u001b[39m=\u001b[39mnode\u001b[39m.\u001b[39mdata\n\u001b[1;32m---> <a href='vscode-notebook-cell:/d%3A/Python_DSA_2.0/binrayTree.ipynb#X46sZmlsZQ%3D%3D?line=11'>12</a>\u001b[0m helper(node\u001b[39m.\u001b[39;49mleft,s,k,li\u001b[39m.\u001b[39;49mcopy(),double_li)\n\u001b[0;32m     <a href='vscode-notebook-cell:/d%3A/Python_DSA_2.0/binrayTree.ipynb#X46sZmlsZQ%3D%3D?line=12'>13</a>\u001b[0m helper(node\u001b[39m.\u001b[39mright,s,k,li\u001b[39m.\u001b[39mcopy(),double_li)\n\u001b[0;32m     <a href='vscode-notebook-cell:/d%3A/Python_DSA_2.0/binrayTree.ipynb#X46sZmlsZQ%3D%3D?line=13'>14</a>\u001b[0m \u001b[39mreturn\u001b[39;00m\n",
      "\u001b[1;32md:\\Python_DSA_2.0\\binrayTree.ipynb Cell 33\u001b[0m in \u001b[0;36mhelper\u001b[1;34m(node, s, k, li, double_li)\u001b[0m\n\u001b[0;32m     <a href='vscode-notebook-cell:/d%3A/Python_DSA_2.0/binrayTree.ipynb#X46sZmlsZQ%3D%3D?line=10'>11</a>\u001b[0m s\u001b[39m+\u001b[39m\u001b[39m=\u001b[39mnode\u001b[39m.\u001b[39mdata\n\u001b[0;32m     <a href='vscode-notebook-cell:/d%3A/Python_DSA_2.0/binrayTree.ipynb#X46sZmlsZQ%3D%3D?line=11'>12</a>\u001b[0m helper(node\u001b[39m.\u001b[39mleft,s,k,li\u001b[39m.\u001b[39mcopy(),double_li)\n\u001b[1;32m---> <a href='vscode-notebook-cell:/d%3A/Python_DSA_2.0/binrayTree.ipynb#X46sZmlsZQ%3D%3D?line=12'>13</a>\u001b[0m helper(node\u001b[39m.\u001b[39;49mright,s,k,li\u001b[39m.\u001b[39;49mcopy(),double_li)\n\u001b[0;32m     <a href='vscode-notebook-cell:/d%3A/Python_DSA_2.0/binrayTree.ipynb#X46sZmlsZQ%3D%3D?line=13'>14</a>\u001b[0m \u001b[39mreturn\u001b[39;00m\n",
      "\u001b[1;32md:\\Python_DSA_2.0\\binrayTree.ipynb Cell 33\u001b[0m in \u001b[0;36mhelper\u001b[1;34m(node, s, k, li, double_li)\u001b[0m\n\u001b[0;32m     <a href='vscode-notebook-cell:/d%3A/Python_DSA_2.0/binrayTree.ipynb#X46sZmlsZQ%3D%3D?line=9'>10</a>\u001b[0m li\u001b[39m.\u001b[39mappend(node\u001b[39m.\u001b[39mdata)\n\u001b[0;32m     <a href='vscode-notebook-cell:/d%3A/Python_DSA_2.0/binrayTree.ipynb#X46sZmlsZQ%3D%3D?line=10'>11</a>\u001b[0m s\u001b[39m+\u001b[39m\u001b[39m=\u001b[39mnode\u001b[39m.\u001b[39mdata\n\u001b[1;32m---> <a href='vscode-notebook-cell:/d%3A/Python_DSA_2.0/binrayTree.ipynb#X46sZmlsZQ%3D%3D?line=11'>12</a>\u001b[0m helper(node\u001b[39m.\u001b[39;49mleft,s,k,li\u001b[39m.\u001b[39;49mcopy(),double_li)\n\u001b[0;32m     <a href='vscode-notebook-cell:/d%3A/Python_DSA_2.0/binrayTree.ipynb#X46sZmlsZQ%3D%3D?line=12'>13</a>\u001b[0m helper(node\u001b[39m.\u001b[39mright,s,k,li\u001b[39m.\u001b[39mcopy(),double_li)\n\u001b[0;32m     <a href='vscode-notebook-cell:/d%3A/Python_DSA_2.0/binrayTree.ipynb#X46sZmlsZQ%3D%3D?line=13'>14</a>\u001b[0m \u001b[39mreturn\u001b[39;00m\n",
      "\u001b[1;32md:\\Python_DSA_2.0\\binrayTree.ipynb Cell 33\u001b[0m in \u001b[0;36mhelper\u001b[1;34m(node, s, k, li, double_li)\u001b[0m\n\u001b[0;32m      <a href='vscode-notebook-cell:/d%3A/Python_DSA_2.0/binrayTree.ipynb#X46sZmlsZQ%3D%3D?line=3'>4</a>\u001b[0m \u001b[39mif\u001b[39;00m node\u001b[39m.\u001b[39mleft \u001b[39m==\u001b[39m \u001b[39mNone\u001b[39;00m \u001b[39mand\u001b[39;00m node\u001b[39m.\u001b[39mright \u001b[39m==\u001b[39m \u001b[39mNone\u001b[39;00m:\n\u001b[0;32m      <a href='vscode-notebook-cell:/d%3A/Python_DSA_2.0/binrayTree.ipynb#X46sZmlsZQ%3D%3D?line=4'>5</a>\u001b[0m     \u001b[39mif\u001b[39;00m s\u001b[39m==\u001b[39mk:\n\u001b[1;32m----> <a href='vscode-notebook-cell:/d%3A/Python_DSA_2.0/binrayTree.ipynb#X46sZmlsZQ%3D%3D?line=5'>6</a>\u001b[0m         s\u001b[39m+\u001b[39m\u001b[39m=\u001b[39mnode\u001b[39m.\u001b[39mdata\n\u001b[0;32m      <a href='vscode-notebook-cell:/d%3A/Python_DSA_2.0/binrayTree.ipynb#X46sZmlsZQ%3D%3D?line=6'>7</a>\u001b[0m         li\u001b[39m.\u001b[39mappend(node\u001b[39m.\u001b[39mdata)\n\u001b[0;32m      <a href='vscode-notebook-cell:/d%3A/Python_DSA_2.0/binrayTree.ipynb#X46sZmlsZQ%3D%3D?line=7'>8</a>\u001b[0m         double_li\u001b[39m.\u001b[39mappend(li\u001b[39m.\u001b[39mcopy())\n",
      "\u001b[1;31mTypeError\u001b[0m: unsupported operand type(s) for +=: 'int' and 'NoneType'"
     ]
    }
   ],
   "source": [
    "ab.insert_level([2,3,9,4,8,-1,2,4,-1,-1,-1,-1,-1,6,-1])\n",
    "rootToLeafPathsSumToK(ab.root,13)"
   ]
  },
  {
   "cell_type": "code",
   "execution_count": 79,
   "metadata": {},
   "outputs": [
    {
     "name": "stdout",
     "output_type": "stream",
     "text": [
      "               2                               \n",
      "       3               9               \n",
      "   4       8       -        2       \n",
      " 4   -    -    -            6   -    \n",
      "                        \n"
     ]
    }
   ],
   "source": [
    "ab.level_order()"
   ]
  },
  {
   "cell_type": "code",
   "execution_count": 15,
   "metadata": {},
   "outputs": [
    {
     "name": "stdout",
     "output_type": "stream",
     "text": [
      "2:L:3,R:9\n",
      "3:L:4,R:8\n",
      "9:L:None,R:2\n",
      "4:L:4,R:None\n",
      "8:L:None,R:None\n",
      "None:L:-1,R:-1\n",
      "2:L:-1,R:-1\n",
      "4:L:-1,R:-1\n",
      "None:L:-1,R:-1\n",
      "None:L:-1,R:-1\n",
      "None:L:-1,R:-1\n"
     ]
    }
   ],
   "source": [
    "printLevelWise(ab.root)"
   ]
  },
  {
   "cell_type": "code",
   "execution_count": 30,
   "metadata": {},
   "outputs": [],
   "source": [
    "l = [2,3,4]"
   ]
  },
  {
   "cell_type": "code",
   "execution_count": 31,
   "metadata": {},
   "outputs": [
    {
     "data": {
      "text/plain": [
       "[2, 3, 4]"
      ]
     },
     "execution_count": 31,
     "metadata": {},
     "output_type": "execute_result"
    }
   ],
   "source": [
    "l"
   ]
  },
  {
   "cell_type": "code",
   "execution_count": 32,
   "metadata": {},
   "outputs": [
    {
     "data": {
      "text/plain": [
       "[2, 3, 4]"
      ]
     },
     "execution_count": 32,
     "metadata": {},
     "output_type": "execute_result"
    }
   ],
   "source": [
    "l[:]"
   ]
  },
  {
   "cell_type": "code",
   "execution_count": 33,
   "metadata": {},
   "outputs": [],
   "source": [
    "h = l[:]"
   ]
  },
  {
   "cell_type": "code",
   "execution_count": 34,
   "metadata": {},
   "outputs": [],
   "source": [
    "h.append(\"arts\")"
   ]
  },
  {
   "cell_type": "code",
   "execution_count": 46,
   "metadata": {},
   "outputs": [
    {
     "data": {
      "text/plain": [
       "[2, 3, 4, 'arts']"
      ]
     },
     "execution_count": 46,
     "metadata": {},
     "output_type": "execute_result"
    }
   ],
   "source": [
    "h"
   ]
  },
  {
   "cell_type": "code",
   "execution_count": 10,
   "metadata": {},
   "outputs": [],
   "source": [
    "def norm(c,b):\n",
    "    return (c/b)*100\n",
    "def sortList(list_mixed):\n",
    "    A = []\n",
    "    B = []\n",
    "    res = []\n",
    "    for i in list_mixed:\n",
    "        if i<50:\n",
    "            A.append(i)\n",
    "        else:\n",
    "            B.append(i)\n",
    "    A.sort()\n",
    "    B.sort()\n",
    "    i = 0\n",
    "    j = 0\n",
    "    while i<len(A) and j<len(B):\n",
    "        if norm(A[i],5)>=norm(B[j],100):\n",
    "            res.append(B[j])\n",
    "            j+=1\n",
    "        else:\n",
    "            res.append(A[i])\n",
    "            i+=1\n",
    "    while i<len(A):\n",
    "        res.append(A[i])\n",
    "        i+=1\n",
    "    while j<len(B):\n",
    "        res.append(B[j])\n",
    "        j+=1\n",
    "    return res\n",
    "\n"
   ]
  },
  {
   "cell_type": "code",
   "execution_count": 11,
   "metadata": {},
   "outputs": [
    {
     "data": {
      "text/plain": [
       "[2, 50, 3, 67, 100, 5]"
      ]
     },
     "execution_count": 11,
     "metadata": {},
     "output_type": "execute_result"
    }
   ],
   "source": [
    "sortList([2,3,67,50,100,5])"
   ]
  },
  {
   "cell_type": "code",
   "execution_count": null,
   "metadata": {},
   "outputs": [],
   "source": []
  }
 ],
 "metadata": {
  "kernelspec": {
   "display_name": "Python 3.9.6 64-bit",
   "language": "python",
   "name": "python3"
  },
  "language_info": {
   "codemirror_mode": {
    "name": "ipython",
    "version": 3
   },
   "file_extension": ".py",
   "mimetype": "text/x-python",
   "name": "python",
   "nbconvert_exporter": "python",
   "pygments_lexer": "ipython3",
   "version": "3.9.6"
  },
  "orig_nbformat": 4,
  "vscode": {
   "interpreter": {
    "hash": "09b4cf88d66c96d02ab3d4b824ef293c884be853a8ab954c1236e567fba6c660"
   }
  }
 },
 "nbformat": 4,
 "nbformat_minor": 2
}
